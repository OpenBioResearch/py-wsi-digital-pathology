{
 "cells": [
  {
   "cell_type": "code",
   "execution_count": null,
   "metadata": {},
   "outputs": [],
   "source": [
    "import os\n",
    "import cv2\n",
    "import openslide\n",
    "import numpy as np\n",
    "from matplotlib import pyplot as plt"
   ]
  },
  {
   "cell_type": "code",
   "execution_count": null,
   "metadata": {},
   "outputs": [],
   "source": [
    "def get_svs_files(wsi_folder):\n",
    "    return [f for f in os.listdir(wsi_folder) if f.endswith('.svs')]\n",
    "\n",
    "def display_thumbnail(wsi_folder, filename):\n",
    "    try:\n",
    "        filepath = os.path.join(wsi_folder, filename)\n",
    "        print(f\"Attempting to open file: {filepath}\")\n",
    "        slide = openslide.OpenSlide(filepath)\n",
    "        thumbnail = slide.get_thumbnail((slide.dimensions[0] // 20, slide.dimensions[1] // 20))\n",
    "        thumbnail = cv2.cvtColor(np.array(thumbnail), cv2.COLOR_RGBA2RGB)\n",
    "        plt.imshow(thumbnail)\n",
    "        plt.axis('off')\n",
    "        plt.show()\n",
    "    except openslide.OpenSlideUnsupportedFormatError as e:\n",
    "        print(f\"Error opening file {filename}: {e}\")\n",
    "    except Exception as e:\n",
    "        print(f\"An unexpected error occurred while processing file {filename}: {e}\")\n",
    "\n",
    "def display_all_thumbnails(wsi_folder):\n",
    "    files = get_svs_files(wsi_folder)\n",
    "    for file in files:\n",
    "        print(f\"Displaying thumbnail for: {file}\")\n",
    "        display_thumbnail(wsi_folder, file)\n",
    "\n",
    "# Example usage:\n",
    "wsi_folder = 'wsi_images'  # Specify your folder path here\n",
    "display_all_thumbnails(wsi_folder)\n"
   ]
  }
 ],
 "metadata": {
  "kernelspec": {
   "display_name": "Python 3",
   "language": "python",
   "name": "python3"
  },
  "language_info": {
   "codemirror_mode": {
    "name": "ipython",
    "version": 3
   },
   "file_extension": ".py",
   "mimetype": "text/x-python",
   "name": "python",
   "nbconvert_exporter": "python",
   "pygments_lexer": "ipython3",
   "version": "3.12.1"
  }
 },
 "nbformat": 4,
 "nbformat_minor": 2
}
